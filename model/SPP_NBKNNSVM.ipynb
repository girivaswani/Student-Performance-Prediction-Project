{
 "cells": [
  {
   "cell_type": "code",
   "execution_count": 1,
   "id": "expected-wales",
   "metadata": {},
   "outputs": [],
   "source": [
    "import pandas as pd\n",
    "import numpy as np\n",
    "student = pd.read_csv(\"student.csv\")"
   ]
  },
  {
   "cell_type": "code",
   "execution_count": 2,
   "id": "violent-capacity",
   "metadata": {},
   "outputs": [],
   "source": [
    "grades = []\n",
    "\n",
    "for row in student['G3']:\n",
    "  if row>=16:\n",
    "    grades.append(\"O\")\n",
    "  elif row>12:\n",
    "    grades.append(\"A\")\n",
    "  elif row>8:\n",
    "    grades.append(\"B\")\n",
    "  else:\n",
    "    grades.append(\"F\")\n",
    "        \n",
    "student['grades'] = grades"
   ]
  },
  {
   "cell_type": "code",
   "execution_count": 3,
   "id": "agreed-rocket",
   "metadata": {},
   "outputs": [
    {
     "data": {
      "text/plain": [
       "G3            1.000000\n",
       "G2            0.918548\n",
       "G1            0.826387\n",
       "studytime     0.249789\n",
       "Medu          0.240151\n",
       "Fedu          0.211800\n",
       "famrel        0.063361\n",
       "goout        -0.087641\n",
       "absences     -0.091379\n",
       "health       -0.098851\n",
       "age          -0.106505\n",
       "freetime     -0.122705\n",
       "traveltime   -0.127173\n",
       "Walc         -0.176619\n",
       "Dalc         -0.204719\n",
       "failures     -0.393316\n",
       "Name: G3, dtype: float64"
      ]
     },
     "execution_count": 3,
     "metadata": {},
     "output_type": "execute_result"
    }
   ],
   "source": [
    "corr_matrix = student.corr()\n",
    "corr_matrix['G3'].sort_values(ascending=False)"
   ]
  },
  {
   "cell_type": "code",
   "execution_count": 4,
   "id": "environmental-pharmacy",
   "metadata": {},
   "outputs": [
    {
     "name": "stdout",
     "output_type": "stream",
     "text": [
      "Rows in train set: 519\n",
      "Rows in test set: 130\n",
      "\n"
     ]
    }
   ],
   "source": [
    "from sklearn.model_selection import train_test_split\n",
    "train_set, test_set  = train_test_split(student, test_size=0.2, random_state=42)\n",
    "print(f\"Rows in train set: {len(train_set)}\\nRows in test set: {len(test_set)}\\n\")"
   ]
  },
  {
   "cell_type": "code",
   "execution_count": 5,
   "id": "divine-booking",
   "metadata": {},
   "outputs": [],
   "source": [
    "student_label = train_set[\"grades\"].copy()\n",
    "student_features = train_set.drop([\"grades\",\"G3\",\"age\"], axis=1)"
   ]
  },
  {
   "cell_type": "code",
   "execution_count": 6,
   "id": "north-bride",
   "metadata": {},
   "outputs": [
    {
     "data": {
      "text/html": [
       "<div>\n",
       "<style scoped>\n",
       "    .dataframe tbody tr th:only-of-type {\n",
       "        vertical-align: middle;\n",
       "    }\n",
       "\n",
       "    .dataframe tbody tr th {\n",
       "        vertical-align: top;\n",
       "    }\n",
       "\n",
       "    .dataframe thead th {\n",
       "        text-align: right;\n",
       "    }\n",
       "</style>\n",
       "<table border=\"1\" class=\"dataframe\">\n",
       "  <thead>\n",
       "    <tr style=\"text-align: right;\">\n",
       "      <th></th>\n",
       "      <th>Medu</th>\n",
       "      <th>Fedu</th>\n",
       "      <th>traveltime</th>\n",
       "      <th>studytime</th>\n",
       "      <th>failures</th>\n",
       "      <th>famrel</th>\n",
       "      <th>freetime</th>\n",
       "      <th>goout</th>\n",
       "      <th>Dalc</th>\n",
       "      <th>Walc</th>\n",
       "      <th>...</th>\n",
       "      <th>reason_reputation</th>\n",
       "      <th>guardian_mother</th>\n",
       "      <th>guardian_other</th>\n",
       "      <th>schoolsup_yes</th>\n",
       "      <th>famsup_yes</th>\n",
       "      <th>paid_yes</th>\n",
       "      <th>activities_yes</th>\n",
       "      <th>higher_yes</th>\n",
       "      <th>internet_yes</th>\n",
       "      <th>romantic_yes</th>\n",
       "    </tr>\n",
       "  </thead>\n",
       "  <tbody>\n",
       "    <tr>\n",
       "      <th>332</th>\n",
       "      <td>2</td>\n",
       "      <td>2</td>\n",
       "      <td>1</td>\n",
       "      <td>3</td>\n",
       "      <td>0</td>\n",
       "      <td>4</td>\n",
       "      <td>3</td>\n",
       "      <td>3</td>\n",
       "      <td>1</td>\n",
       "      <td>2</td>\n",
       "      <td>...</td>\n",
       "      <td>0</td>\n",
       "      <td>1</td>\n",
       "      <td>0</td>\n",
       "      <td>0</td>\n",
       "      <td>1</td>\n",
       "      <td>0</td>\n",
       "      <td>0</td>\n",
       "      <td>1</td>\n",
       "      <td>1</td>\n",
       "      <td>0</td>\n",
       "    </tr>\n",
       "    <tr>\n",
       "      <th>29</th>\n",
       "      <td>4</td>\n",
       "      <td>4</td>\n",
       "      <td>1</td>\n",
       "      <td>2</td>\n",
       "      <td>0</td>\n",
       "      <td>4</td>\n",
       "      <td>4</td>\n",
       "      <td>5</td>\n",
       "      <td>5</td>\n",
       "      <td>5</td>\n",
       "      <td>...</td>\n",
       "      <td>0</td>\n",
       "      <td>1</td>\n",
       "      <td>0</td>\n",
       "      <td>0</td>\n",
       "      <td>1</td>\n",
       "      <td>1</td>\n",
       "      <td>1</td>\n",
       "      <td>1</td>\n",
       "      <td>1</td>\n",
       "      <td>1</td>\n",
       "    </tr>\n",
       "    <tr>\n",
       "      <th>302</th>\n",
       "      <td>3</td>\n",
       "      <td>2</td>\n",
       "      <td>1</td>\n",
       "      <td>3</td>\n",
       "      <td>0</td>\n",
       "      <td>5</td>\n",
       "      <td>3</td>\n",
       "      <td>2</td>\n",
       "      <td>1</td>\n",
       "      <td>1</td>\n",
       "      <td>...</td>\n",
       "      <td>0</td>\n",
       "      <td>1</td>\n",
       "      <td>0</td>\n",
       "      <td>0</td>\n",
       "      <td>0</td>\n",
       "      <td>0</td>\n",
       "      <td>1</td>\n",
       "      <td>1</td>\n",
       "      <td>0</td>\n",
       "      <td>0</td>\n",
       "    </tr>\n",
       "    <tr>\n",
       "      <th>286</th>\n",
       "      <td>2</td>\n",
       "      <td>1</td>\n",
       "      <td>1</td>\n",
       "      <td>1</td>\n",
       "      <td>0</td>\n",
       "      <td>4</td>\n",
       "      <td>4</td>\n",
       "      <td>2</td>\n",
       "      <td>2</td>\n",
       "      <td>4</td>\n",
       "      <td>...</td>\n",
       "      <td>0</td>\n",
       "      <td>1</td>\n",
       "      <td>0</td>\n",
       "      <td>0</td>\n",
       "      <td>0</td>\n",
       "      <td>0</td>\n",
       "      <td>0</td>\n",
       "      <td>1</td>\n",
       "      <td>1</td>\n",
       "      <td>0</td>\n",
       "    </tr>\n",
       "    <tr>\n",
       "      <th>554</th>\n",
       "      <td>1</td>\n",
       "      <td>1</td>\n",
       "      <td>2</td>\n",
       "      <td>1</td>\n",
       "      <td>0</td>\n",
       "      <td>3</td>\n",
       "      <td>5</td>\n",
       "      <td>5</td>\n",
       "      <td>2</td>\n",
       "      <td>2</td>\n",
       "      <td>...</td>\n",
       "      <td>0</td>\n",
       "      <td>0</td>\n",
       "      <td>0</td>\n",
       "      <td>0</td>\n",
       "      <td>1</td>\n",
       "      <td>0</td>\n",
       "      <td>1</td>\n",
       "      <td>0</td>\n",
       "      <td>1</td>\n",
       "      <td>1</td>\n",
       "    </tr>\n",
       "  </tbody>\n",
       "</table>\n",
       "<p>5 rows × 38 columns</p>\n",
       "</div>"
      ],
      "text/plain": [
       "     Medu  Fedu  traveltime  studytime  failures  famrel  freetime  goout  \\\n",
       "332     2     2           1          3         0       4         3      3   \n",
       "29      4     4           1          2         0       4         4      5   \n",
       "302     3     2           1          3         0       5         3      2   \n",
       "286     2     1           1          1         0       4         4      2   \n",
       "554     1     1           2          1         0       3         5      5   \n",
       "\n",
       "     Dalc  Walc  ...  reason_reputation  guardian_mother  guardian_other  \\\n",
       "332     1     2  ...                  0                1               0   \n",
       "29      5     5  ...                  0                1               0   \n",
       "302     1     1  ...                  0                1               0   \n",
       "286     2     4  ...                  0                1               0   \n",
       "554     2     2  ...                  0                0               0   \n",
       "\n",
       "     schoolsup_yes  famsup_yes  paid_yes  activities_yes  higher_yes  \\\n",
       "332              0           1         0               0           1   \n",
       "29               0           1         1               1           1   \n",
       "302              0           0         0               1           1   \n",
       "286              0           0         0               0           1   \n",
       "554              0           1         0               1           0   \n",
       "\n",
       "     internet_yes  romantic_yes  \n",
       "332             1             0  \n",
       "29              1             1  \n",
       "302             0             0  \n",
       "286             1             0  \n",
       "554             1             1  \n",
       "\n",
       "[5 rows x 38 columns]"
      ]
     },
     "execution_count": 6,
     "metadata": {},
     "output_type": "execute_result"
    }
   ],
   "source": [
    "student_features = pd.get_dummies(student_features, drop_first=True)\n",
    "# student_features.info()\n",
    "student_features.head()"
   ]
  },
  {
   "cell_type": "code",
   "execution_count": 7,
   "id": "unique-radar",
   "metadata": {},
   "outputs": [],
   "source": [
    "from sklearn.pipeline import Pipeline\n",
    "from sklearn.impute import SimpleImputer\n",
    "\n",
    "from sklearn.preprocessing import StandardScaler\n",
    "my_pipeline = Pipeline([\n",
    "    ('imputer', SimpleImputer(strategy=\"median\")),\n",
    "#     ('std_scaler', StandardScaler()),\n",
    "])"
   ]
  },
  {
   "cell_type": "code",
   "execution_count": 8,
   "id": "abstract-adoption",
   "metadata": {},
   "outputs": [],
   "source": [
    "student_features = my_pipeline.fit_transform(student_features)"
   ]
  },
  {
   "cell_type": "code",
   "execution_count": 9,
   "id": "premier-local",
   "metadata": {},
   "outputs": [
    {
     "data": {
      "text/plain": [
       "BaggingClassifier(base_estimator=DecisionTreeClassifier(criterion='entropy',\n",
       "                                                        max_depth=32,\n",
       "                                                        random_state=42),\n",
       "                  max_samples=0.5, n_estimators=20)"
      ]
     },
     "execution_count": 9,
     "metadata": {},
     "output_type": "execute_result"
    }
   ],
   "source": [
    "from sklearn.naive_bayes import GaussianNB\n",
    "from sklearn.neural_network import MLPClassifier\n",
    "from sklearn.neighbors import KNeighborsClassifier\n",
    "from sklearn.pipeline import make_pipeline\n",
    "from sklearn.ensemble import RandomForestClassifier, BaggingClassifier, AdaBoostClassifier, VotingClassifier\n",
    "from sklearn.preprocessing import StandardScaler\n",
    "from sklearn.tree import DecisionTreeClassifier\n",
    "from sklearn.svm import SVC\n",
    "# svc = SVC(gamma='auto')\n",
    "# model = GaussianNB()\n",
    "# dt = DecisionTreeClassifier(criterion=\"entropy\",max_depth=32,random_state=42)\n",
    "model = BaggingClassifier(DecisionTreeClassifier(criterion=\"entropy\",max_depth=32,random_state=42), max_samples=0.5, max_features=1.0,n_estimators = 20)\n",
    "# model = AdaBoostClassifier(DecisionTreeClassifier(criterion=\"entropy\",max_depth=32,random_state=42),n_estimators = 20)\n",
    "# model = RandomForestClassifier()\n",
    "# model = MLPClassifier(activation=\"logistic\",solver=\"sgd\" ,random_state=1, max_iter=300)\n",
    "# knn = KNeighborsClassifier(n_neighbors=7)\n",
    "# model =  VotingClassifier(estimators=[('svc',svc),('dt',dt),('knn',knn)])\n",
    "model.fit(student_features, student_label)\n"
   ]
  },
  {
   "cell_type": "code",
   "execution_count": 10,
   "id": "intended-october",
   "metadata": {},
   "outputs": [],
   "source": [
    "# from sklearn.model_selection import cross_val_score\n",
    "# scores = cross_val_score(model, student_features, student_label, scoring=\"neg_mean_squared_error\", cv=10)\n",
    "# rmse_scores = np.sqrt(-scores)"
   ]
  },
  {
   "cell_type": "code",
   "execution_count": 11,
   "id": "israeli-williams",
   "metadata": {},
   "outputs": [],
   "source": [
    "student_label_test = test_set[\"grades\"].copy()\n",
    "student_features_test = test_set.drop([\"grades\",\"G3\",\"age\"], axis=1)\n",
    "student_features_test = pd.get_dummies(student_features_test, drop_first=True)"
   ]
  },
  {
   "cell_type": "code",
   "execution_count": 12,
   "id": "awful-loading",
   "metadata": {},
   "outputs": [],
   "source": [
    "student_features_test = my_pipeline.fit_transform(student_features_test)\n",
    "# student_label_test = my_pipeline.fit_transform([student_label_test])\n",
    "\n",
    "# print(student_features_test)"
   ]
  },
  {
   "cell_type": "code",
   "execution_count": 13,
   "id": "eight-creation",
   "metadata": {},
   "outputs": [
    {
     "name": "stdout",
     "output_type": "stream",
     "text": [
      "['O' 'B' 'O' 'B' 'B' 'O' 'O' 'B' 'B' 'B' 'O' 'B' 'A' 'B' 'B' 'A' 'B' 'F'\n",
      " 'A' 'A' 'A' 'A' 'A' 'A' 'A' 'A' 'F' 'B' 'B' 'O' 'O' 'A' 'F' 'F' 'O' 'A'\n",
      " 'A' 'A' 'A' 'B' 'A' 'B' 'F' 'B' 'A' 'A' 'O' 'B' 'A' 'B' 'B' 'B' 'A' 'B'\n",
      " 'B' 'O' 'B' 'B' 'B' 'B' 'B' 'B' 'O' 'A' 'A' 'O' 'B' 'B' 'B' 'B' 'A' 'A'\n",
      " 'A' 'O' 'A' 'A' 'A' 'A' 'A' 'A' 'B' 'B' 'O' 'F' 'B' 'O' 'B' 'F' 'A' 'A'\n",
      " 'A' 'B' 'B' 'O' 'B' 'A' 'A' 'B' 'A' 'B' 'B' 'B' 'B' 'B' 'A' 'B' 'B' 'B'\n",
      " 'B' 'A' 'A' 'B' 'B' 'B' 'F' 'B' 'B' 'O' 'A' 'B' 'A' 'F' 'A' 'A' 'A' 'F'\n",
      " 'O' 'B' 'A' 'B']\n"
     ]
    }
   ],
   "source": [
    "final_predictions = model.predict(student_features_test)\n",
    "print(final_predictions)"
   ]
  },
  {
   "cell_type": "code",
   "execution_count": 14,
   "id": "reasonable-robin",
   "metadata": {},
   "outputs": [
    {
     "name": "stdout",
     "output_type": "stream",
     "text": [
      "636    O\n",
      "220    B\n",
      "594    O\n",
      "429    B\n",
      "72     B\n",
      "      ..\n",
      "514    F\n",
      "374    O\n",
      "444    B\n",
      "244    B\n",
      "601    B\n",
      "Name: grades, Length: 130, dtype: object\n"
     ]
    }
   ],
   "source": [
    "print(student_label_test)"
   ]
  },
  {
   "cell_type": "code",
   "execution_count": 15,
   "id": "undefined-trick",
   "metadata": {},
   "outputs": [
    {
     "name": "stdout",
     "output_type": "stream",
     "text": [
      "0.8384615384615385\n"
     ]
    }
   ],
   "source": [
    "from sklearn.metrics import accuracy_score\n",
    "print(accuracy_score(student_label_test,final_predictions))"
   ]
  },
  {
   "cell_type": "code",
   "execution_count": 16,
   "id": "preliminary-broadway",
   "metadata": {},
   "outputs": [
    {
     "name": "stdout",
     "output_type": "stream",
     "text": [
      "0.7615384615384616\n"
     ]
    }
   ],
   "source": [
    "from sklearn.model_selection import cross_val_score\n",
    "scores = cross_val_score(model, student_features_test, student_label_test, cv=10)\n",
    "print(scores.mean())"
   ]
  },
  {
   "cell_type": "code",
   "execution_count": 17,
   "id": "aware-expansion",
   "metadata": {},
   "outputs": [],
   "source": [
    "def plot_confusion_matrix(cm, classes=None, title='Confusion matrix'):\n",
    "    \"\"\"Plots a confusion matrix.\"\"\"\n",
    "    if classes is not None:\n",
    "        sns.heatmap(cm, xticklabels=classes, yticklabels=classes, vmin=0., vmax=1., annot=True, annot_kws={'size':50})\n",
    "    else:\n",
    "        sns.heatmap(cm, vmin=0., vmax=1.)\n",
    "    plt.title(title)\n",
    "    plt.ylabel('True label')\n",
    "    plt.xlabel('Predicted label')"
   ]
  },
  {
   "cell_type": "code",
   "execution_count": 18,
   "id": "conventional-terrace",
   "metadata": {},
   "outputs": [],
   "source": [
    "from sklearn import tree\n",
    "# from sklearn.tree import DecisionTreeClassifier, export_graphviz\n",
    "# from sklearn.ensemble import RandomForestClassifier\n",
    "from sklearn.metrics import accuracy_score, confusion_matrix, r2_score\n",
    "from matplotlib import pyplot as plt\n",
    "import seaborn as sns\n",
    "np.set_printoptions(formatter={'float_kind':'{:f}'.format})\n",
    "\n",
    "# Increases the size of sns plots\n",
    "sns.set(rc={'figure.figsize':(12,10)})"
   ]
  },
  {
   "cell_type": "code",
   "execution_count": 19,
   "id": "outstanding-dating",
   "metadata": {},
   "outputs": [
    {
     "name": "stdout",
     "output_type": "stream",
     "text": [
      "Training Accuracy is:  0.928709055876686\n",
      "Testing Accuracy is:  0.8384615384615385\n"
     ]
    },
    {
     "data": {
      "image/png": "[encoded data removed]",
      "text/plain": [
       "<Figure size 864x720 with 2 Axes>"
      ]
     },
     "metadata": {},
     "output_type": "display_data"
    }
   ],
   "source": [
    "# from sklearn.neighbors import KNeighborsClassifier\n",
    "\n",
    "prediction_test = model.predict(student_features_test)\n",
    "print(\"Training Accuracy is: \", model.score(student_features, student_label))\n",
    "print(\"Testing Accuracy is: \", model.score(student_features_test, student_label_test))\n",
    "cm = confusion_matrix(student_label_test, prediction_test)\n",
    "cm_norm = cm/cm.sum(axis=1)[:, np.newaxis]\n",
    "plt.figure()\n",
    "plot_confusion_matrix(cm_norm, classes=model.classes_)"
   ]
  },
  {
   "cell_type": "code",
   "execution_count": 20,
   "id": "mediterranean-break",
   "metadata": {},
   "outputs": [
    {
     "data": {
      "text/plain": [
       "0.8384615384615385"
      ]
     },
     "execution_count": 20,
     "metadata": {},
     "output_type": "execute_result"
    }
   ],
   "source": [
    "from sklearn.metrics import recall_score, precision_score, f1_score\n",
    "recall_score(student_label_test, prediction_test, average='weighted')"
   ]
  },
  {
   "cell_type": "code",
   "execution_count": 21,
   "id": "interior-harrison",
   "metadata": {},
   "outputs": [
    {
     "data": {
      "text/plain": [
       "0.8579106280193236"
      ]
     },
     "execution_count": 21,
     "metadata": {},
     "output_type": "execute_result"
    }
   ],
   "source": [
    "precision_score(student_label_test, prediction_test, average='weighted')"
   ]
  },
  {
   "cell_type": "code",
   "execution_count": 22,
   "id": "simplified-pastor",
   "metadata": {},
   "outputs": [
    {
     "data": {
      "text/plain": [
       "0.8413228311267527"
      ]
     },
     "execution_count": 22,
     "metadata": {},
     "output_type": "execute_result"
    }
   ],
   "source": [
    "f1_score(student_label_test, prediction_test, average='weighted')"
   ]
  },
  {
   "cell_type": "code",
   "execution_count": 23,
   "id": "comic-header",
   "metadata": {},
   "outputs": [
    {
     "data": {
      "text/plain": [
       "['Student.joblib']"
      ]
     },
     "execution_count": 23,
     "metadata": {},
     "output_type": "execute_result"
    }
   ],
   "source": [
    "from joblib import dump, load\n",
    "dump(model, 'Student.joblib')"
   ]
  },
  {
   "cell_type": "code",
   "execution_count": 24,
   "id": "textile-romantic",
   "metadata": {},
   "outputs": [
    {
     "data": {
      "text/plain": [
       "array([4.000000, 4.000000, 1.000000, 2.000000, 0.000000, 3.000000,\n",
       "       2.000000, 4.000000, 1.000000, 4.000000, 2.000000, 4.000000,\n",
       "       17.000000, 18.000000, 1.000000, 1.000000, 0.000000, 1.000000,\n",
       "       0.000000, 0.000000, 0.000000, 1.000000, 0.000000, 0.000000,\n",
       "       0.000000, 1.000000, 1.000000, 0.000000, 0.000000, 0.000000,\n",
       "       0.000000, 0.000000, 0.000000, 0.000000, 1.000000, 1.000000,\n",
       "       1.000000, 0.000000])"
      ]
     },
     "execution_count": 24,
     "metadata": {},
     "output_type": "execute_result"
    }
   ],
   "source": [
    "student_features_test[0]"
   ]
  },
  {
   "cell_type": "code",
   "execution_count": 25,
   "id": "aging-sapphire",
   "metadata": {},
   "outputs": [
    {
     "data": {
      "text/plain": [
       "array(['B'], dtype=object)"
      ]
     },
     "execution_count": 25,
     "metadata": {},
     "output_type": "execute_result"
    }
   ],
   "source": [
    "from joblib import dump, load\n",
    "import numpy as np\n",
    "model = load('Student.joblib') \n",
    "features = np.array([student_features_test[1]])\n",
    "model.predict(features)"
   ]
  }
 ],
 "metadata": {
  "kernelspec": {
   "display_name": "Python 3",
   "language": "python",
   "name": "python3"
  },
  "language_info": {
   "codemirror_mode": {
    "name": "ipython",
    "version": 3
   },
   "file_extension": ".py",
   "mimetype": "text/x-python",
   "name": "python",
   "nbconvert_exporter": "python",
   "pygments_lexer": "ipython3",
   "version": "3.8.3"
  }
 },
 "nbformat": 4,
 "nbformat_minor": 5
}
